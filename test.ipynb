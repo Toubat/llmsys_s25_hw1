{
 "cells": [
  {
   "cell_type": "code",
   "execution_count": 1,
   "metadata": {},
   "outputs": [],
   "source": [
    "import minitorch"
   ]
  },
  {
   "cell_type": "code",
   "execution_count": 3,
   "metadata": {},
   "outputs": [
    {
     "data": {
      "text/plain": [
       "\n",
       "[\n",
       "    [\n",
       "        [1.000000],\n",
       "        [2.000000],\n",
       "        [3.000000],\n",
       "    ],\n",
       "    [\n",
       "        [4.000000],\n",
       "        [5.000000],\n",
       "        [6.000000],\n",
       "    ],\n",
       "]"
      ]
     },
     "execution_count": 3,
     "metadata": {},
     "output_type": "execute_result"
    }
   ],
   "source": [
    "x = minitorch.tensor([1, 2, 3, 4, 5, 6]).contiguous().view(2, 3, 1)\n",
    "x"
   ]
  },
  {
   "cell_type": "code",
   "execution_count": null,
   "metadata": {},
   "outputs": [],
   "source": [
    "x.to_numpy()"
   ]
  },
  {
   "cell_type": "code",
   "execution_count": null,
   "metadata": {},
   "outputs": [],
   "source": [
    "x._tensor.shape, x._tensor.strides"
   ]
  },
  {
   "cell_type": "code",
   "execution_count": null,
   "metadata": {},
   "outputs": [],
   "source": [
    "y = minitorch.Tensor.make(\n",
    "    storage=x._tensor._storage,\n",
    "    shape=(2, 3),\n",
    "    strides=(3, 1),\n",
    "    backend=x.backend,\n",
    ")\n",
    "\n",
    "y"
   ]
  },
  {
   "cell_type": "code",
   "execution_count": null,
   "metadata": {},
   "outputs": [],
   "source": [
    "y._tensor._storage"
   ]
  },
  {
   "cell_type": "code",
   "execution_count": null,
   "metadata": {},
   "outputs": [],
   "source": [
    "y._tensor.shape, y._tensor.strides"
   ]
  },
  {
   "cell_type": "code",
   "execution_count": null,
   "metadata": {},
   "outputs": [],
   "source": [
    "y._tensor._storage is x._tensor._storage"
   ]
  },
  {
   "cell_type": "code",
   "execution_count": null,
   "metadata": {},
   "outputs": [],
   "source": [
    "z = x.view(3, 2, 1)\n",
    "z"
   ]
  },
  {
   "cell_type": "code",
   "execution_count": null,
   "metadata": {},
   "outputs": [],
   "source": [
    "z._tensor.shape, z._tensor.strides"
   ]
  },
  {
   "cell_type": "code",
   "execution_count": null,
   "metadata": {},
   "outputs": [],
   "source": [
    "z._tensor._storage is x._tensor._storage"
   ]
  },
  {
   "cell_type": "code",
   "execution_count": null,
   "metadata": {},
   "outputs": [],
   "source": [
    "z_index = [1, 1, 0]\n",
    "pos = minitorch.index_to_position(z_index, z._tensor._strides)\n",
    "z[tuple(z_index)] == z._tensor._storage[pos], pos, z[tuple(z_index)]"
   ]
  },
  {
   "cell_type": "code",
   "execution_count": null,
   "metadata": {},
   "outputs": [],
   "source": [
    "z.shape"
   ]
  },
  {
   "cell_type": "code",
   "execution_count": 3,
   "metadata": {},
   "outputs": [],
   "source": [
    "from minitorch import TensorData\n",
    "import numpy as np"
   ]
  },
  {
   "cell_type": "code",
   "execution_count": 4,
   "metadata": {},
   "outputs": [],
   "source": [
    "x_ = np.arange(12)\n",
    "x = TensorData(x_, (2, 2, 3), (6, 3, 1))"
   ]
  },
  {
   "cell_type": "code",
   "execution_count": 5,
   "metadata": {},
   "outputs": [
    {
     "name": "stdout",
     "output_type": "stream",
     "text": [
      "\n",
      "[\n",
      "    [\n",
      "        [0.000000 1.000000 2.000000],\n",
      "        [3.000000 4.000000 5.000000],\n",
      "    ],\n",
      "    [\n",
      "        [6.000000 7.000000 8.000000],\n",
      "        [9.000000 10.000000 11.000000],\n",
      "    ],\n",
      "]\n"
     ]
    }
   ],
   "source": [
    "print(x.to_string())"
   ]
  },
  {
   "cell_type": "code",
   "execution_count": null,
   "metadata": {},
   "outputs": [],
   "source": []
  }
 ],
 "metadata": {
  "language_info": {
   "name": "python"
  }
 },
 "nbformat": 4,
 "nbformat_minor": 2
}
